{
 "cells": [
  {
   "cell_type": "code",
   "execution_count": 1,
   "metadata": {},
   "outputs": [],
   "source": [
    "import cv2"
   ]
  },
  {
   "cell_type": "code",
   "execution_count": 2,
   "metadata": {},
   "outputs": [],
   "source": [
    "video = cv2.VideoCapture(\"C:\\\\Users\\\\USEER\\\\Desktop\\\\Patrick\\\\Project\\\\VID_20200622_075347.mp4\")\n",
    "face_cascade = cv2.CascadeClassifier(\"C:\\\\Users\\\\USEER\\\\Downloads\\\\haarcascade_frontalface_default.xml\")\n",
    "\n",
    "\n",
    "first_frame = None\n",
    "fourcc = cv2.VideoWriter_fourcc(*'XVID')\n",
    "out = cv2.VideoWriter('face detect.mp4', fourcc, 19.0, (1920, 1088))\n",
    "\n",
    "\n",
    "while True:\n",
    "    check, frame = video.read()\n",
    "    if check == True:\n",
    "        gray = cv2.cvtColor(frame, cv2.COLOR_BGR2GRAY)\n",
    "        \n",
    "        if first_frame is None:\n",
    "            first_frame = gray\n",
    "            continue\n",
    "            \n",
    "        faces = face_cascade.detectMultiScale(gray, scaleFactor = 1.05, minNeighbors = 5)\n",
    "        \n",
    "        for (x,y,w,h) in faces:\n",
    "            cv2.rectangle(frame, (x,y), (x+w, y+h), (0,255,0), 3)\n",
    "            \n",
    "        out.write(frame)\n",
    "        cv2.imshow(\"Capturing\", frame)\n",
    "        key = cv2.waitKey(60)\n",
    "        \n",
    "        if key == ord('q'):\n",
    "            break\n",
    "            \n",
    "    else:\n",
    "        break\n",
    "out.release()       \n",
    "video.release()\n",
    "cv2.destroyAllWindows()"
   ]
  },
  {
   "cell_type": "code",
   "execution_count": null,
   "metadata": {},
   "outputs": [],
   "source": []
  }
 ],
 "metadata": {
  "kernelspec": {
   "display_name": "Python 3",
   "language": "python",
   "name": "python3"
  },
  "language_info": {
   "codemirror_mode": {
    "name": "ipython",
    "version": 3
   },
   "file_extension": ".py",
   "mimetype": "text/x-python",
   "name": "python",
   "nbconvert_exporter": "python",
   "pygments_lexer": "ipython3",
   "version": "3.7.6"
  }
 },
 "nbformat": 4,
 "nbformat_minor": 4
}
